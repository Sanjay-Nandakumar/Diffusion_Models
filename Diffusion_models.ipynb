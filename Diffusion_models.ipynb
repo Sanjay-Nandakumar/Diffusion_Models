{
  "nbformat": 4,
  "nbformat_minor": 0,
  "metadata": {
    "colab": {
      "provenance": [],
      "toc_visible": true
    },
    "kernelspec": {
      "name": "python3",
      "display_name": "Python 3"
    },
    "language_info": {
      "name": "python"
    },
    "widgets": {
      "application/vnd.jupyter.widget-state+json": {
        "615a074386f14761b5f9459a3186e36f": {
          "model_module": "@jupyter-widgets/controls",
          "model_name": "HBoxModel",
          "model_module_version": "1.5.0",
          "state": {
            "_dom_classes": [],
            "_model_module": "@jupyter-widgets/controls",
            "_model_module_version": "1.5.0",
            "_model_name": "HBoxModel",
            "_view_count": null,
            "_view_module": "@jupyter-widgets/controls",
            "_view_module_version": "1.5.0",
            "_view_name": "HBoxView",
            "box_style": "",
            "children": [
              "IPY_MODEL_1eeb6c473b494c6ca12253404c5211ce",
              "IPY_MODEL_1ef5f42f687b45608f4b95ccff400691",
              "IPY_MODEL_45f3439efdda4fcf928af1769da2b30e"
            ],
            "layout": "IPY_MODEL_8a00819680d94147bb856283f0196b8f"
          }
        },
        "1eeb6c473b494c6ca12253404c5211ce": {
          "model_module": "@jupyter-widgets/controls",
          "model_name": "HTMLModel",
          "model_module_version": "1.5.0",
          "state": {
            "_dom_classes": [],
            "_model_module": "@jupyter-widgets/controls",
            "_model_module_version": "1.5.0",
            "_model_name": "HTMLModel",
            "_view_count": null,
            "_view_module": "@jupyter-widgets/controls",
            "_view_module_version": "1.5.0",
            "_view_name": "HTMLView",
            "description": "",
            "description_tooltip": null,
            "layout": "IPY_MODEL_8a714c0c7342424fb557a3ad51918507",
            "placeholder": "​",
            "style": "IPY_MODEL_735ef3d95d694945a11b360e739e0a6d",
            "value": "sampling loop time step: 100%"
          }
        },
        "1ef5f42f687b45608f4b95ccff400691": {
          "model_module": "@jupyter-widgets/controls",
          "model_name": "FloatProgressModel",
          "model_module_version": "1.5.0",
          "state": {
            "_dom_classes": [],
            "_model_module": "@jupyter-widgets/controls",
            "_model_module_version": "1.5.0",
            "_model_name": "FloatProgressModel",
            "_view_count": null,
            "_view_module": "@jupyter-widgets/controls",
            "_view_module_version": "1.5.0",
            "_view_name": "ProgressView",
            "bar_style": "success",
            "description": "",
            "description_tooltip": null,
            "layout": "IPY_MODEL_6230810e99cb4d43be34a8da876079c8",
            "max": 5,
            "min": 0,
            "orientation": "horizontal",
            "style": "IPY_MODEL_b3280d5969c74f6697007bffdba3bf84",
            "value": 5
          }
        },
        "45f3439efdda4fcf928af1769da2b30e": {
          "model_module": "@jupyter-widgets/controls",
          "model_name": "HTMLModel",
          "model_module_version": "1.5.0",
          "state": {
            "_dom_classes": [],
            "_model_module": "@jupyter-widgets/controls",
            "_model_module_version": "1.5.0",
            "_model_name": "HTMLModel",
            "_view_count": null,
            "_view_module": "@jupyter-widgets/controls",
            "_view_module_version": "1.5.0",
            "_view_name": "HTMLView",
            "description": "",
            "description_tooltip": null,
            "layout": "IPY_MODEL_14729996e0324825aedc8332918ad226",
            "placeholder": "​",
            "style": "IPY_MODEL_fa17243a55244a9ab1a5db661ee06763",
            "value": " 5/5 [00:22&lt;00:00,  4.49s/it]"
          }
        },
        "8a00819680d94147bb856283f0196b8f": {
          "model_module": "@jupyter-widgets/base",
          "model_name": "LayoutModel",
          "model_module_version": "1.2.0",
          "state": {
            "_model_module": "@jupyter-widgets/base",
            "_model_module_version": "1.2.0",
            "_model_name": "LayoutModel",
            "_view_count": null,
            "_view_module": "@jupyter-widgets/base",
            "_view_module_version": "1.2.0",
            "_view_name": "LayoutView",
            "align_content": null,
            "align_items": null,
            "align_self": null,
            "border": null,
            "bottom": null,
            "display": null,
            "flex": null,
            "flex_flow": null,
            "grid_area": null,
            "grid_auto_columns": null,
            "grid_auto_flow": null,
            "grid_auto_rows": null,
            "grid_column": null,
            "grid_gap": null,
            "grid_row": null,
            "grid_template_areas": null,
            "grid_template_columns": null,
            "grid_template_rows": null,
            "height": null,
            "justify_content": null,
            "justify_items": null,
            "left": null,
            "margin": null,
            "max_height": null,
            "max_width": null,
            "min_height": null,
            "min_width": null,
            "object_fit": null,
            "object_position": null,
            "order": null,
            "overflow": null,
            "overflow_x": null,
            "overflow_y": null,
            "padding": null,
            "right": null,
            "top": null,
            "visibility": null,
            "width": null
          }
        },
        "8a714c0c7342424fb557a3ad51918507": {
          "model_module": "@jupyter-widgets/base",
          "model_name": "LayoutModel",
          "model_module_version": "1.2.0",
          "state": {
            "_model_module": "@jupyter-widgets/base",
            "_model_module_version": "1.2.0",
            "_model_name": "LayoutModel",
            "_view_count": null,
            "_view_module": "@jupyter-widgets/base",
            "_view_module_version": "1.2.0",
            "_view_name": "LayoutView",
            "align_content": null,
            "align_items": null,
            "align_self": null,
            "border": null,
            "bottom": null,
            "display": null,
            "flex": null,
            "flex_flow": null,
            "grid_area": null,
            "grid_auto_columns": null,
            "grid_auto_flow": null,
            "grid_auto_rows": null,
            "grid_column": null,
            "grid_gap": null,
            "grid_row": null,
            "grid_template_areas": null,
            "grid_template_columns": null,
            "grid_template_rows": null,
            "height": null,
            "justify_content": null,
            "justify_items": null,
            "left": null,
            "margin": null,
            "max_height": null,
            "max_width": null,
            "min_height": null,
            "min_width": null,
            "object_fit": null,
            "object_position": null,
            "order": null,
            "overflow": null,
            "overflow_x": null,
            "overflow_y": null,
            "padding": null,
            "right": null,
            "top": null,
            "visibility": null,
            "width": null
          }
        },
        "735ef3d95d694945a11b360e739e0a6d": {
          "model_module": "@jupyter-widgets/controls",
          "model_name": "DescriptionStyleModel",
          "model_module_version": "1.5.0",
          "state": {
            "_model_module": "@jupyter-widgets/controls",
            "_model_module_version": "1.5.0",
            "_model_name": "DescriptionStyleModel",
            "_view_count": null,
            "_view_module": "@jupyter-widgets/base",
            "_view_module_version": "1.2.0",
            "_view_name": "StyleView",
            "description_width": ""
          }
        },
        "6230810e99cb4d43be34a8da876079c8": {
          "model_module": "@jupyter-widgets/base",
          "model_name": "LayoutModel",
          "model_module_version": "1.2.0",
          "state": {
            "_model_module": "@jupyter-widgets/base",
            "_model_module_version": "1.2.0",
            "_model_name": "LayoutModel",
            "_view_count": null,
            "_view_module": "@jupyter-widgets/base",
            "_view_module_version": "1.2.0",
            "_view_name": "LayoutView",
            "align_content": null,
            "align_items": null,
            "align_self": null,
            "border": null,
            "bottom": null,
            "display": null,
            "flex": null,
            "flex_flow": null,
            "grid_area": null,
            "grid_auto_columns": null,
            "grid_auto_flow": null,
            "grid_auto_rows": null,
            "grid_column": null,
            "grid_gap": null,
            "grid_row": null,
            "grid_template_areas": null,
            "grid_template_columns": null,
            "grid_template_rows": null,
            "height": null,
            "justify_content": null,
            "justify_items": null,
            "left": null,
            "margin": null,
            "max_height": null,
            "max_width": null,
            "min_height": null,
            "min_width": null,
            "object_fit": null,
            "object_position": null,
            "order": null,
            "overflow": null,
            "overflow_x": null,
            "overflow_y": null,
            "padding": null,
            "right": null,
            "top": null,
            "visibility": null,
            "width": null
          }
        },
        "b3280d5969c74f6697007bffdba3bf84": {
          "model_module": "@jupyter-widgets/controls",
          "model_name": "ProgressStyleModel",
          "model_module_version": "1.5.0",
          "state": {
            "_model_module": "@jupyter-widgets/controls",
            "_model_module_version": "1.5.0",
            "_model_name": "ProgressStyleModel",
            "_view_count": null,
            "_view_module": "@jupyter-widgets/base",
            "_view_module_version": "1.2.0",
            "_view_name": "StyleView",
            "bar_color": null,
            "description_width": ""
          }
        },
        "14729996e0324825aedc8332918ad226": {
          "model_module": "@jupyter-widgets/base",
          "model_name": "LayoutModel",
          "model_module_version": "1.2.0",
          "state": {
            "_model_module": "@jupyter-widgets/base",
            "_model_module_version": "1.2.0",
            "_model_name": "LayoutModel",
            "_view_count": null,
            "_view_module": "@jupyter-widgets/base",
            "_view_module_version": "1.2.0",
            "_view_name": "LayoutView",
            "align_content": null,
            "align_items": null,
            "align_self": null,
            "border": null,
            "bottom": null,
            "display": null,
            "flex": null,
            "flex_flow": null,
            "grid_area": null,
            "grid_auto_columns": null,
            "grid_auto_flow": null,
            "grid_auto_rows": null,
            "grid_column": null,
            "grid_gap": null,
            "grid_row": null,
            "grid_template_areas": null,
            "grid_template_columns": null,
            "grid_template_rows": null,
            "height": null,
            "justify_content": null,
            "justify_items": null,
            "left": null,
            "margin": null,
            "max_height": null,
            "max_width": null,
            "min_height": null,
            "min_width": null,
            "object_fit": null,
            "object_position": null,
            "order": null,
            "overflow": null,
            "overflow_x": null,
            "overflow_y": null,
            "padding": null,
            "right": null,
            "top": null,
            "visibility": null,
            "width": null
          }
        },
        "fa17243a55244a9ab1a5db661ee06763": {
          "model_module": "@jupyter-widgets/controls",
          "model_name": "DescriptionStyleModel",
          "model_module_version": "1.5.0",
          "state": {
            "_model_module": "@jupyter-widgets/controls",
            "_model_module_version": "1.5.0",
            "_model_name": "DescriptionStyleModel",
            "_view_count": null,
            "_view_module": "@jupyter-widgets/base",
            "_view_module_version": "1.2.0",
            "_view_name": "StyleView",
            "description_width": ""
          }
        }
      }
    }
  },
  "cells": [
    {
      "cell_type": "markdown",
      "source": [
        "# Diffusion Models in PyTorch"
      ],
      "metadata": {
        "id": "kKocmoSEbnyJ"
      }
    },
    {
      "cell_type": "markdown",
      "source": [
        "While Diffusion Models have not yet been democratized to the same degree as other older architectures/approaches in Machine Learning, there are still implementations available for use. The easiest way to use a Diffusion Model in PyTorch is to use the denoising-diffusion-pytorch package, which implements an image diffusion model like the one discussed in this article. To install the package, simply type the following command in the terminal:"
      ],
      "metadata": {
        "id": "H7UJxU9-bwz_"
      }
    },
    {
      "cell_type": "code",
      "source": [
        "pip install denoising_diffusion_pytorch"
      ],
      "metadata": {
        "colab": {
          "base_uri": "https://localhost:8080/"
        },
        "id": "oexCUc5tbmZ4",
        "outputId": "dc09a86d-6136-4a8d-be9a-dd0acdb04b7e"
      },
      "execution_count": 1,
      "outputs": [
        {
          "output_type": "stream",
          "name": "stdout",
          "text": [
            "Looking in indexes: https://pypi.org/simple, https://us-python.pkg.dev/colab-wheels/public/simple/\n",
            "Requirement already satisfied: denoising_diffusion_pytorch in /usr/local/lib/python3.8/dist-packages (1.0.1)\n",
            "Requirement already satisfied: ema-pytorch in /usr/local/lib/python3.8/dist-packages (from denoising_diffusion_pytorch) (0.1.2)\n",
            "Requirement already satisfied: torch in /usr/local/lib/python3.8/dist-packages (from denoising_diffusion_pytorch) (1.13.0+cu116)\n",
            "Requirement already satisfied: pillow in /usr/local/lib/python3.8/dist-packages (from denoising_diffusion_pytorch) (7.1.2)\n",
            "Requirement already satisfied: torchvision in /usr/local/lib/python3.8/dist-packages (from denoising_diffusion_pytorch) (0.14.0+cu116)\n",
            "Requirement already satisfied: accelerate in /usr/local/lib/python3.8/dist-packages (from denoising_diffusion_pytorch) (0.15.0)\n",
            "Requirement already satisfied: einops in /usr/local/lib/python3.8/dist-packages (from denoising_diffusion_pytorch) (0.6.0)\n",
            "Requirement already satisfied: tqdm in /usr/local/lib/python3.8/dist-packages (from denoising_diffusion_pytorch) (4.64.1)\n",
            "Requirement already satisfied: psutil in /usr/local/lib/python3.8/dist-packages (from accelerate->denoising_diffusion_pytorch) (5.4.8)\n",
            "Requirement already satisfied: pyyaml in /usr/local/lib/python3.8/dist-packages (from accelerate->denoising_diffusion_pytorch) (6.0)\n",
            "Requirement already satisfied: numpy>=1.17 in /usr/local/lib/python3.8/dist-packages (from accelerate->denoising_diffusion_pytorch) (1.21.6)\n",
            "Requirement already satisfied: packaging>=20.0 in /usr/local/lib/python3.8/dist-packages (from accelerate->denoising_diffusion_pytorch) (21.3)\n",
            "Requirement already satisfied: pyparsing!=3.0.5,>=2.0.2 in /usr/local/lib/python3.8/dist-packages (from packaging>=20.0->accelerate->denoising_diffusion_pytorch) (3.0.9)\n",
            "Requirement already satisfied: typing-extensions in /usr/local/lib/python3.8/dist-packages (from torch->denoising_diffusion_pytorch) (4.4.0)\n",
            "Requirement already satisfied: requests in /usr/local/lib/python3.8/dist-packages (from torchvision->denoising_diffusion_pytorch) (2.23.0)\n",
            "Requirement already satisfied: idna<3,>=2.5 in /usr/local/lib/python3.8/dist-packages (from requests->torchvision->denoising_diffusion_pytorch) (2.10)\n",
            "Requirement already satisfied: certifi>=2017.4.17 in /usr/local/lib/python3.8/dist-packages (from requests->torchvision->denoising_diffusion_pytorch) (2022.12.7)\n",
            "Requirement already satisfied: urllib3!=1.25.0,!=1.25.1,<1.26,>=1.21.1 in /usr/local/lib/python3.8/dist-packages (from requests->torchvision->denoising_diffusion_pytorch) (1.24.3)\n",
            "Requirement already satisfied: chardet<4,>=3.0.2 in /usr/local/lib/python3.8/dist-packages (from requests->torchvision->denoising_diffusion_pytorch) (3.0.4)\n"
          ]
        }
      ]
    },
    {
      "cell_type": "markdown",
      "source": [
        "# Minimal Example"
      ],
      "metadata": {
        "id": "dCl-wE5jbl61"
      }
    },
    {
      "cell_type": "markdown",
      "source": [
        "To train a model and generate images, we first import the necessary packages:"
      ],
      "metadata": {
        "id": "0d_Jfmn9b24A"
      }
    },
    {
      "cell_type": "code",
      "source": [
        "import torch\n",
        "from denoising_diffusion_pytorch import Unet, GaussianDiffusion"
      ],
      "metadata": {
        "id": "5ZZBQ3FBaR8B"
      },
      "execution_count": 2,
      "outputs": []
    },
    {
      "cell_type": "markdown",
      "source": [
        "Next, we define our network architecture, in this case a U-Net. The dim parameter specifies the number of feature maps before the first down-sampling, and the dim_mults parameter provides multiplicands for this value and successive down-samplings:"
      ],
      "metadata": {
        "id": "HYWg1eKjb5lY"
      }
    },
    {
      "cell_type": "code",
      "source": [
        "model = Unet(\n",
        "    dim = 64,\n",
        "    dim_mults = (1, 2, 4, 8)\n",
        ")"
      ],
      "metadata": {
        "id": "mwbxv0YtaVJv"
      },
      "execution_count": 3,
      "outputs": []
    },
    {
      "cell_type": "markdown",
      "source": [
        "Now that our network architecture is defined, we need to define the Diffusion Model itself. We pass in the U-Net model that we just defined along with several parameters - the size of images to generate, the number of timesteps in the diffusion process, and a choice between the L1 and L2 norms."
      ],
      "metadata": {
        "id": "Wl89ieP4b_S4"
      }
    },
    {
      "cell_type": "code",
      "source": [
        "diffusion = GaussianDiffusion(\n",
        "    model,\n",
        "    image_size = 128,\n",
        "    timesteps = 5,   # number of steps\n",
        "    loss_type = 'l1'    # L1 or L2\n",
        ")"
      ],
      "metadata": {
        "id": "X3LCeKqSaoLE"
      },
      "execution_count": 4,
      "outputs": []
    },
    {
      "cell_type": "markdown",
      "source": [
        "Now that the Diffusion Model is defined, it's time to train. We generate random data to train on, and then train the Diffusion Model in the usual fashion:"
      ],
      "metadata": {
        "id": "I7TLQsv7cCln"
      }
    },
    {
      "cell_type": "code",
      "source": [
        "training_images = torch.randn(8, 3, 128, 128)\n",
        "loss = diffusion(training_images)\n",
        "loss.backward()"
      ],
      "metadata": {
        "id": "p9ft89YIaXui"
      },
      "execution_count": 5,
      "outputs": []
    },
    {
      "cell_type": "markdown",
      "source": [
        "Once the model is trained, we can finally generate images by using the sample() method of the diffusion object. Here we generate 4 images, which are only noise given that our training data was random:"
      ],
      "metadata": {
        "id": "NXrQVNn0cF8m"
      }
    },
    {
      "cell_type": "code",
      "source": [
        "sampled_images = diffusion.sample(batch_size = 4)"
      ],
      "metadata": {
        "colab": {
          "base_uri": "https://localhost:8080/",
          "height": 49,
          "referenced_widgets": [
            "615a074386f14761b5f9459a3186e36f",
            "1eeb6c473b494c6ca12253404c5211ce",
            "1ef5f42f687b45608f4b95ccff400691",
            "45f3439efdda4fcf928af1769da2b30e",
            "8a00819680d94147bb856283f0196b8f",
            "8a714c0c7342424fb557a3ad51918507",
            "735ef3d95d694945a11b360e739e0a6d",
            "6230810e99cb4d43be34a8da876079c8",
            "b3280d5969c74f6697007bffdba3bf84",
            "14729996e0324825aedc8332918ad226",
            "fa17243a55244a9ab1a5db661ee06763"
          ]
        },
        "id": "u0GwIGtKaxqZ",
        "outputId": "4d9944f9-b7fa-4fc4-c294-2cccd4bef2a3"
      },
      "execution_count": 6,
      "outputs": [
        {
          "output_type": "display_data",
          "data": {
            "text/plain": [
              "sampling loop time step:   0%|          | 0/5 [00:00<?, ?it/s]"
            ],
            "application/vnd.jupyter.widget-view+json": {
              "version_major": 2,
              "version_minor": 0,
              "model_id": "615a074386f14761b5f9459a3186e36f"
            }
          },
          "metadata": {}
        }
      ]
    },
    {
      "cell_type": "code",
      "source": [
        "print(sampled_images)"
      ],
      "metadata": {
        "colab": {
          "base_uri": "https://localhost:8080/"
        },
        "id": "KWgMYaBzbQt1",
        "outputId": "a31585ac-a4e7-4139-fc43-604c6e0d8985"
      },
      "execution_count": 7,
      "outputs": [
        {
          "output_type": "stream",
          "name": "stdout",
          "text": [
            "tensor([[[[1.0000, 0.4834, 0.0000,  ..., 0.9119, 0.0000, 1.0000],\n",
            "          [0.0184, 1.0000, 0.1645,  ..., 0.1238, 0.0000, 0.7808],\n",
            "          [0.7471, 0.5532, 0.6766,  ..., 0.7086, 0.0000, 0.2469],\n",
            "          ...,\n",
            "          [0.9669, 0.9141, 0.5833,  ..., 1.0000, 0.3052, 0.0324],\n",
            "          [0.5637, 0.0000, 0.0000,  ..., 0.4756, 1.0000, 1.0000],\n",
            "          [0.9001, 0.0302, 0.9728,  ..., 0.0000, 0.3630, 0.0000]],\n",
            "\n",
            "         [[0.3369, 0.7538, 0.7942,  ..., 0.3643, 0.0000, 0.4676],\n",
            "          [1.0000, 0.0713, 0.0000,  ..., 0.3987, 0.0413, 0.0000],\n",
            "          [0.3557, 0.7201, 1.0000,  ..., 1.0000, 1.0000, 0.9021],\n",
            "          ...,\n",
            "          [0.0568, 0.1472, 0.0142,  ..., 0.9298, 1.0000, 0.0000],\n",
            "          [0.3364, 0.1858, 0.8880,  ..., 0.8333, 0.3876, 0.0000],\n",
            "          [0.0000, 1.0000, 1.0000,  ..., 0.7697, 0.0000, 0.3056]],\n",
            "\n",
            "         [[1.0000, 0.9562, 1.0000,  ..., 0.8870, 0.4773, 0.8323],\n",
            "          [0.8999, 0.9249, 1.0000,  ..., 0.8293, 0.8894, 0.5286],\n",
            "          [1.0000, 1.0000, 0.5996,  ..., 0.8600, 0.9103, 0.6484],\n",
            "          ...,\n",
            "          [0.0000, 0.1737, 0.9366,  ..., 1.0000, 0.9326, 0.1214],\n",
            "          [1.0000, 1.0000, 0.8796,  ..., 1.0000, 1.0000, 1.0000],\n",
            "          [0.0794, 1.0000, 1.0000,  ..., 1.0000, 1.0000, 0.2755]]],\n",
            "\n",
            "\n",
            "        [[[0.0000, 1.0000, 0.9805,  ..., 0.4913, 0.0574, 0.9863],\n",
            "          [0.0000, 0.4868, 1.0000,  ..., 0.1751, 0.0484, 0.1077],\n",
            "          [1.0000, 0.0000, 0.1691,  ..., 0.0000, 0.2398, 0.0024],\n",
            "          ...,\n",
            "          [0.6859, 0.0000, 0.0000,  ..., 1.0000, 0.9297, 0.7690],\n",
            "          [0.9667, 1.0000, 0.1111,  ..., 0.9607, 0.0000, 0.1289],\n",
            "          [0.8073, 0.0606, 0.1555,  ..., 1.0000, 0.0000, 0.0000]],\n",
            "\n",
            "         [[0.0000, 0.9429, 0.0000,  ..., 0.5074, 0.0000, 0.8526],\n",
            "          [0.0000, 0.0000, 0.2715,  ..., 1.0000, 0.6751, 0.0000],\n",
            "          [0.2537, 0.8222, 0.0000,  ..., 1.0000, 0.0000, 0.0000],\n",
            "          ...,\n",
            "          [1.0000, 0.3137, 0.8197,  ..., 0.4463, 0.7508, 0.9837],\n",
            "          [0.5715, 0.0000, 0.2779,  ..., 1.0000, 0.0000, 0.0000],\n",
            "          [0.7397, 0.7173, 0.0000,  ..., 0.0000, 0.0034, 0.0000]],\n",
            "\n",
            "         [[0.0000, 0.8870, 1.0000,  ..., 0.9335, 0.8356, 0.5799],\n",
            "          [1.0000, 1.0000, 0.2000,  ..., 0.7787, 1.0000, 0.6311],\n",
            "          [0.1999, 0.7127, 0.8174,  ..., 0.4294, 0.0400, 1.0000],\n",
            "          ...,\n",
            "          [0.0000, 1.0000, 0.5471,  ..., 0.7520, 0.3834, 1.0000],\n",
            "          [0.6150, 1.0000, 0.6301,  ..., 1.0000, 0.8543, 0.0000],\n",
            "          [0.0533, 1.0000, 0.4862,  ..., 1.0000, 0.1445, 0.7275]]],\n",
            "\n",
            "\n",
            "        [[[0.9694, 1.0000, 0.2085,  ..., 0.9648, 1.0000, 0.1200],\n",
            "          [0.3580, 0.9764, 0.0000,  ..., 0.4391, 0.0000, 0.9781],\n",
            "          [0.6499, 0.8832, 0.0000,  ..., 1.0000, 0.0000, 0.0000],\n",
            "          ...,\n",
            "          [0.4913, 0.0000, 0.2307,  ..., 0.0750, 0.0995, 0.0000],\n",
            "          [0.3657, 0.1841, 0.0646,  ..., 1.0000, 0.1891, 0.5887],\n",
            "          [0.0122, 0.0000, 0.9471,  ..., 0.0000, 0.2492, 0.0916]],\n",
            "\n",
            "         [[0.6491, 0.8177, 1.0000,  ..., 0.8825, 0.0953, 0.0000],\n",
            "          [0.2166, 0.5773, 0.0000,  ..., 0.0000, 0.0221, 0.2066],\n",
            "          [0.3621, 0.0000, 0.5053,  ..., 0.0000, 1.0000, 0.9804],\n",
            "          ...,\n",
            "          [0.6731, 0.8645, 1.0000,  ..., 0.0734, 0.0000, 0.9832],\n",
            "          [0.8610, 0.9706, 0.6380,  ..., 0.7466, 0.4192, 0.0650],\n",
            "          [0.2468, 0.0000, 0.8334,  ..., 0.0000, 0.8091, 0.0000]],\n",
            "\n",
            "         [[0.7318, 0.6378, 0.8830,  ..., 0.4073, 0.0000, 0.2118],\n",
            "          [0.4357, 0.0179, 0.9895,  ..., 1.0000, 1.0000, 0.0000],\n",
            "          [0.8979, 0.6985, 1.0000,  ..., 1.0000, 0.8637, 0.5802],\n",
            "          ...,\n",
            "          [0.7304, 1.0000, 1.0000,  ..., 0.3451, 0.0000, 0.6306],\n",
            "          [1.0000, 0.5698, 0.7107,  ..., 1.0000, 0.1817, 0.9709],\n",
            "          [0.2139, 1.0000, 0.9677,  ..., 0.0251, 0.8737, 0.6852]]],\n",
            "\n",
            "\n",
            "        [[[0.4204, 1.0000, 0.4013,  ..., 0.0000, 0.0695, 1.0000],\n",
            "          [1.0000, 0.0000, 0.0000,  ..., 1.0000, 0.3311, 0.9780],\n",
            "          [0.0381, 0.6896, 0.0446,  ..., 0.0000, 0.1968, 0.8805],\n",
            "          ...,\n",
            "          [0.0819, 1.0000, 0.0000,  ..., 0.0405, 0.0589, 0.7754],\n",
            "          [0.3945, 0.6460, 0.9098,  ..., 0.0000, 0.0000, 0.0000],\n",
            "          [0.2752, 0.0000, 0.0000,  ..., 0.9151, 0.7175, 0.0000]],\n",
            "\n",
            "         [[1.0000, 0.8463, 0.3453,  ..., 0.9636, 0.0000, 0.0000],\n",
            "          [1.0000, 0.1571, 0.7361,  ..., 0.1531, 1.0000, 0.0000],\n",
            "          [0.3645, 1.0000, 1.0000,  ..., 0.0000, 1.0000, 0.4545],\n",
            "          ...,\n",
            "          [0.1084, 0.0000, 0.0000,  ..., 0.0000, 1.0000, 0.5785],\n",
            "          [0.8319, 0.4955, 1.0000,  ..., 0.2105, 0.3917, 0.5671],\n",
            "          [0.9702, 0.1246, 0.0365,  ..., 0.5144, 0.1863, 0.7402]],\n",
            "\n",
            "         [[1.0000, 0.0000, 0.9727,  ..., 0.0000, 0.9503, 0.2106],\n",
            "          [1.0000, 1.0000, 1.0000,  ..., 1.0000, 0.0000, 1.0000],\n",
            "          [0.8286, 0.6164, 0.0000,  ..., 0.0000, 0.5679, 1.0000],\n",
            "          ...,\n",
            "          [1.0000, 0.1177, 0.2047,  ..., 1.0000, 0.7346, 0.7088],\n",
            "          [0.1031, 0.1558, 0.0000,  ..., 0.9898, 0.8856, 1.0000],\n",
            "          [1.0000, 0.7661, 0.9742,  ..., 0.2111, 1.0000, 0.1675]]]])\n"
          ]
        }
      ]
    },
    {
      "cell_type": "code",
      "source": [],
      "metadata": {
        "id": "_yE9NRShbZkO"
      },
      "execution_count": 7,
      "outputs": []
    }
  ]
}